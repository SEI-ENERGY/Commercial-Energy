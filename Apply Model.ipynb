{
 "cells": [
  {
   "cell_type": "markdown",
   "metadata": {},
   "source": [
    "# Apply Model\n",
    "\n",
    "This notebook gives examples of how to run a trained model on external data."
   ]
  },
  {
   "cell_type": "code",
   "execution_count": 1,
   "metadata": {
    "collapsed": true
   },
   "outputs": [],
   "source": [
    "%matplotlib inline\n",
    "\n",
    "import datetime\n",
    "\n",
    "from shapely.geometry import Point, mapping, shape\n",
    "import fiona\n",
    "\n",
    "import numpy as np\n",
    "\n",
    "import rtree\n",
    "\n",
    "from sklearn.preprocessing import StandardScaler, Normalizer\n",
    "from sklearn.externals import joblib\n",
    "\n",
    "import matplotlib\n",
    "import matplotlib.pyplot as plt"
   ]
  },
  {
   "cell_type": "code",
   "execution_count": 2,
   "metadata": {
    "collapsed": true
   },
   "outputs": [],
   "source": [
    "# BUILDING_FEATURES_FN should be a numpy file (.npy) that contains a matrix where each row represents a building and\n",
    "# and each column represents a feature. There should be 24 columns, where the first 4 columns are: square footage,\n",
    "# cooling degree days, heating degree days, and square footage. The remaining 20 columns should be a one-hot encoding\n",
    "# principal building activity.\n",
    "BUILDING_FEATURES_FN = \"data/dummyFeatures.npy\"\n",
    "\n",
    "# BUILDING_LOCATIONS_FN should be a numpy file that contains a matrix with the same number of rows as BUILDING_FEATURES_FN,\n",
    "# and two columns. The first column should represent the latitude of the buildings, the second column should represent the\n",
    "# longitude of the buildings.\n",
    "BUILDING_LOCATIONS_FN = \"data/dummyFeatureLocations.npy\"\n",
    "\n",
    "# MODEL_FILE should be the path to a pre-trained model file.\n",
    "MODEL_FILE = \"output/trainedModels/XGBoost_trained.p\"\n",
    "\n",
    "\n",
    "# AGGREGATION_SHAPES_FN should be the filename of a shapefile that contains the zones with which you want to aggregate\n",
    "# the individual predictions into\n",
    "AGGREGATION_SHAPES_FN = \"data/shapefiles/Model_Traffic_Analysis_Zones_2000.shp\"\n",
    "AGGREGATION_PK = \"TAZ05\" # Primary key to use from the AGGREGATION_SHAPES_FN shapefile"
   ]
  },
  {
   "cell_type": "markdown",
   "metadata": {},
   "source": [
    "# Load Data"
   ]
  },
  {
   "cell_type": "code",
   "execution_count": 3,
   "metadata": {},
   "outputs": [
    {
     "name": "stdout",
     "output_type": "stream",
     "text": [
      "(5099, 24)\n",
      "(5099, 2)\n"
     ]
    }
   ],
   "source": [
    "X = np.load(BUILDING_FEATURES_FN)\n",
    "points = np.load(BUILDING_LOCATIONS_FN)\n",
    "\n",
    "print X.shape\n",
    "print points.shape"
   ]
  },
  {
   "cell_type": "code",
   "execution_count": 4,
   "metadata": {
    "collapsed": true
   },
   "outputs": [],
   "source": [
    "regressor = joblib.load(MODEL_FILE)\n",
    "scaler = joblib.load(\"output/scaler.p\")"
   ]
  },
  {
   "cell_type": "markdown",
   "metadata": {},
   "source": [
    "# Apply Model"
   ]
  },
  {
   "cell_type": "code",
   "execution_count": 5,
   "metadata": {},
   "outputs": [],
   "source": [
    "predictions = regressor.predict(scaler.transform(X))"
   ]
  },
  {
   "cell_type": "markdown",
   "metadata": {},
   "source": [
    "# Perform Intersect with zone boundaries"
   ]
  },
  {
   "cell_type": "code",
   "execution_count": 6,
   "metadata": {},
   "outputs": [],
   "source": [
    "index = rtree.index.Index()\n",
    "\n",
    "pointList = []\n",
    "pointEnergyList = []\n",
    "for i, (lat, lon) in enumerate(points):\n",
    "    geom = Point(lon, lat)\n",
    "    predictedLogEnergyUse = predictions[i]\n",
    "   \n",
    "    pointList.append(geom)\n",
    "    pointEnergyList.append(predictedLogEnergyUse)\n",
    "\n",
    "\n",
    "zoneList = []\n",
    "zoneIdList = []\n",
    "zoneSumEnergyList = []\n",
    "zonePointCount = []\n",
    "f = fiona.open(AGGREGATION_SHAPES_FN)\n",
    "for fid, pol in enumerate(f):\n",
    "    geom = shape(pol['geometry'])\n",
    "    pk = pol[\"properties\"][AGGREGATION_PK]\n",
    "    \n",
    "    zoneList.append(geom)\n",
    "    zoneIdList.append(pk)\n",
    "    \n",
    "    zoneSumEnergyList.append(0.0)\n",
    "    zonePointCount.append(0.0)\n",
    "    \n",
    "    index.insert(fid, geom.bounds)\n",
    "f.close()\n",
    "\n",
    "\n",
    "for i, point in enumerate(pointList):\n",
    "    for j in index.intersection(point.coords[0]):\n",
    "        if zoneList[j].contains(point):\n",
    "            zoneSumEnergyList[j] += (10.0**pointEnergyList[i])\n",
    "            zonePointCount[j] += 1"
   ]
  },
  {
   "cell_type": "markdown",
   "metadata": {
    "collapsed": true
   },
   "source": [
    "# Write Updated TAZ boundaries"
   ]
  },
  {
   "cell_type": "code",
   "execution_count": 8,
   "metadata": {},
   "outputs": [
    {
     "name": "stdout",
     "output_type": "stream",
     "text": [
      "Writing source file\n",
      "Finished writing source file\n"
     ]
    }
   ],
   "source": [
    "totalEnergy = 0.0\n",
    "with fiona.open(AGGREGATION_SHAPES_FN, \"r\") as source:\n",
    "\n",
    "    sink_schema = source.schema.copy()\n",
    "    sink_schema['properties']['sumEnergy'] = 'float'\n",
    "    sink_schema['properties']['pointCount'] = 'float'\n",
    "    sink_schema['properties']['timestamp'] = 'datetime'\n",
    "\n",
    "\n",
    "    with fiona.open(\n",
    "        'output/ModelOutput.shp', 'w',\n",
    "        crs=source.crs,\n",
    "        driver=source.driver,\n",
    "        schema=sink_schema,\n",
    "    ) as sink:\n",
    "        print \"Writing source file\"\n",
    "        for f in source:\n",
    "            \n",
    "            sourceZoneID = f[\"properties\"][AGGREGATION_PK]\n",
    "            newIndex = zoneIdList.index(sourceZoneID)\n",
    "            \n",
    "            totalEnergy += zoneSumEnergyList[newIndex]\n",
    "                \n",
    "            f['properties'].update(\n",
    "                sumEnergy=zoneSumEnergyList[newIndex],\n",
    "                pointCount=zonePointCount[newIndex],\n",
    "                timestamp=datetime.datetime.now().isoformat()\n",
    "            )\n",
    "\n",
    "            sink.write(f)\n",
    "            \n",
    "        print \"Finished writing source file\""
   ]
  }
 ],
 "metadata": {
  "kernelspec": {
   "display_name": "Python 2",
   "language": "python",
   "name": "python2"
  },
  "language_info": {
   "codemirror_mode": {
    "name": "ipython",
    "version": 2
   },
   "file_extension": ".py",
   "mimetype": "text/x-python",
   "name": "python",
   "nbconvert_exporter": "python",
   "pygments_lexer": "ipython2",
   "version": "2.7.12"
  }
 },
 "nbformat": 4,
 "nbformat_minor": 1
}
