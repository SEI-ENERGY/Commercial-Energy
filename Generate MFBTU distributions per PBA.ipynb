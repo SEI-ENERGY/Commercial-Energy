{
 "cells": [
  {
   "cell_type": "markdown",
   "metadata": {},
   "source": [
    "# Generate MFBTU distributions per PBA\n",
    "\n",
    "Here we create a figure for each PBA that shows how the energy consumption of buildings in the PBA is distributed."
   ]
  },
  {
   "cell_type": "code",
   "execution_count": 1,
   "metadata": {
    "collapsed": true
   },
   "outputs": [],
   "source": [
    "%matplotlib inline\n",
    "import os\n",
    "\n",
    "import matplotlib\n",
    "import matplotlib.pyplot as plt\n",
    "plt.style.use(\"seaborn-paper\")\n",
    "\n",
    "import CBECSLib"
   ]
  },
  {
   "cell_type": "code",
   "execution_count": 2,
   "metadata": {
    "collapsed": true
   },
   "outputs": [],
   "source": [
    "RESULTS_DIR = \"results/\""
   ]
  },
  {
   "cell_type": "markdown",
   "metadata": {},
   "source": [
    "# Load data"
   ]
  },
  {
   "cell_type": "code",
   "execution_count": 3,
   "metadata": {},
   "outputs": [
    {
     "name": "stdout",
     "output_type": "stream",
     "text": [
      "20 classes\n"
     ]
    }
   ],
   "source": [
    "X,Y,columnNames,classVals = CBECSLib.getDataset(0,pbaOneHot=True)\n",
    "classOrdering,classFrequencies = CBECSLib.getClassFrequencies(classVals)\n",
    "numClassVals = len(classFrequencies)\n",
    "pbaLabels = CBECSLib.pbaLabels"
   ]
  },
  {
   "cell_type": "markdown",
   "metadata": {},
   "source": [
    "# Generate MFBTU distribution per PBA"
   ]
  },
  {
   "cell_type": "code",
   "execution_count": 4,
   "metadata": {
    "scrolled": false
   },
   "outputs": [
    {
     "name": "stdout",
     "output_type": "stream",
     "text": [
      "1.0 Vacant\n",
      "2.0 Office\n",
      "4.0 Laboratory\n",
      "5.0 Nonrefrigerated warehouse\n",
      "6.0 Food sales\n",
      "7.0 Public order and safety\n",
      "8.0 Outpatient health care\n",
      "11.0 Refrigerated warehouse\n",
      "12.0 Religious worship\n",
      "13.0 Public assembly\n",
      "14.0 Education\n",
      "15.0 Food service\n",
      "16.0 Inpatient health care\n",
      "17.0 Nursing\n",
      "18.0 Lodging\n",
      "23.0 Strip shopping mall\n",
      "24.0 Enclosed mall\n",
      "25.0 Retail other than mall\n",
      "26.0 Service\n",
      "91.0 Other\n"
     ]
    }
   ],
   "source": [
    "for label in np.unique(classVals):\n",
    "    className = pbaLabels[label]\n",
    "    print label, className\n",
    "    \n",
    "    mask = classVals == label\n",
    "    mfbtuVals = Y[mask]\n",
    "    className = pbaLabels[label]\n",
    "    \n",
    "    #----------------------------------\n",
    "    \n",
    "    fig, ax = plt.subplots(1,1,figsize=(6.4,4.4))\n",
    "    mu, sigma = Y.mean(), Y.std()\n",
    "\n",
    "    bins = np.logspace(np.log10(1),np.log10(Y.max()),50)\n",
    "\n",
    "    plt.hist(mfbtuVals, bins=bins)\n",
    "\n",
    "    plt.xscale(\"log\")\n",
    "\n",
    "    ax.set_title(\"Distribution of MFBTU for %s(n=%d)\" % (className, np.sum(mask)), fontsize=17, y=1.04, color='k')\n",
    "    ax.set_ylabel(\"Frequency\", fontsize=17, color='k')\n",
    "    ax.set_xlabel(\"MFBTU (kBTU/year)\", fontsize=17, color='k')\n",
    "    ax.tick_params(axis='both', which='major', labelsize=14)\n",
    "\n",
    "    plt.savefig(os.path.join(RESULTS_DIR, \"btuDistributions/MFBTU_PBA_%s.png\" % (className.replace(\" \",\"_\"))), dpi=150, alpha=True, bbox_inches='tight')\n",
    "    plt.close()"
   ]
  },
  {
   "cell_type": "code",
   "execution_count": null,
   "metadata": {
    "collapsed": true
   },
   "outputs": [],
   "source": []
  }
 ],
 "metadata": {
  "kernelspec": {
   "display_name": "Python 2",
   "language": "python",
   "name": "python2"
  },
  "language_info": {
   "codemirror_mode": {
    "name": "ipython",
    "version": 2
   },
   "file_extension": ".py",
   "mimetype": "text/x-python",
   "name": "python",
   "nbconvert_exporter": "python",
   "pygments_lexer": "ipython2",
   "version": "2.7.12"
  }
 },
 "nbformat": 4,
 "nbformat_minor": 1
}
