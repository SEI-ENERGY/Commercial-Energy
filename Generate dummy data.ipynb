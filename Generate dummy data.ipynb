{
 "cells": [
  {
   "cell_type": "markdown",
   "metadata": {},
   "source": [
    "# Generate dummy data\n",
    "\n",
    "\n",
    "Here we generate dummy data to use in `Apply model.ipynb`. Specifically, we assign a random point in downtown Atlanta to each of the rows in CBECS. This data is just to demonstrate how to apply our models."
   ]
  },
  {
   "cell_type": "code",
   "execution_count": 1,
   "metadata": {
    "collapsed": true
   },
   "outputs": [],
   "source": [
    "import numpy as np\n",
    "\n",
    "import CBECSLib"
   ]
  },
  {
   "cell_type": "code",
   "execution_count": 2,
   "metadata": {
    "collapsed": true
   },
   "outputs": [],
   "source": [
    "atlanta_nw = (33.8961, -84.4650)\n",
    "atlanta_se = (33.6975, -84.2995)"
   ]
  },
  {
   "cell_type": "code",
   "execution_count": 3,
   "metadata": {},
   "outputs": [
    {
     "name": "stdout",
     "output_type": "stream",
     "text": [
      "20 classes\n"
     ]
    }
   ],
   "source": [
    "X,Y,columnNames,classVals = CBECSLib.getDataset(1,pbaOneHot=True)\n",
    "np.save(\"output/dummyFeatures.npy\",X)"
   ]
  },
  {
   "cell_type": "code",
   "execution_count": 4,
   "metadata": {
    "collapsed": true
   },
   "outputs": [],
   "source": [
    "points = []\n",
    "for i in range(X.shape[0]):\n",
    "    lat, lon = np.random.uniform(atlanta_se[0], atlanta_nw[0]), np.random.uniform(atlanta_nw[1], atlanta_se[1])\n",
    "    points.append((lat,lon))\n",
    "points = np.array(points)\n",
    "np.save(\"output/dummyFeatureLocations.npy\", points)"
   ]
  }
 ],
 "metadata": {
  "kernelspec": {
   "display_name": "Python 2",
   "language": "python",
   "name": "python2"
  },
  "language_info": {
   "codemirror_mode": {
    "name": "ipython",
    "version": 2
   },
   "file_extension": ".py",
   "mimetype": "text/x-python",
   "name": "python",
   "nbconvert_exporter": "python",
   "pygments_lexer": "ipython2",
   "version": "2.7.12"
  }
 },
 "nbformat": 4,
 "nbformat_minor": 2
}
