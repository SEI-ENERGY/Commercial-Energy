{
 "cells": [
  {
   "cell_type": "markdown",
   "metadata": {},
   "source": [
    "# NYC - Data centroids\n",
    "\n",
    "In this notebook we calculate the centroid point of each lot in the PLUTO data so that we can look up its degree day value in our degree day rasters. "
   ]
  },
  {
   "cell_type": "code",
   "execution_count": 1,
   "metadata": {
    "collapsed": true
   },
   "outputs": [],
   "source": [
    "import fiona\n",
    "import shapely\n",
    "from shapely.geometry import shape\n",
    "import pyproj\n",
    "from functools import partial"
   ]
  },
  {
   "cell_type": "code",
   "execution_count": 2,
   "metadata": {
    "collapsed": true
   },
   "outputs": [],
   "source": [
    "projectionWorldGeodetic = pyproj.Proj(init='epsg:4326')\n",
    "projectionStatePlane = pyproj.Proj(init='epsg:2263', preserve_units=True)\n",
    "projectionFunction = partial(pyproj.transform, projectionStatePlane, projectionWorldGeodetic)"
   ]
  },
  {
   "cell_type": "code",
   "execution_count": 3,
   "metadata": {
    "collapsed": true
   },
   "outputs": [],
   "source": [
    "def getBBL(borough, block, lot):\n",
    "    BOROUGH_MAP = {\n",
    "        \"MN\" : 1,\n",
    "        \"BX\" : 2,\n",
    "        \"BK\" : 3,\n",
    "        \"QN\" : 4,\n",
    "        \"SI\" : 5\n",
    "    }\n",
    "    return \"%d%05d%04d\" % (BOROUGH_MAP[borough], block, lot)"
   ]
  },
  {
   "cell_type": "code",
   "execution_count": 4,
   "metadata": {
    "collapsed": true
   },
   "outputs": [],
   "source": [
    "fns = [\n",
    "    \"data/nyc/shapefiles/bk_mappluto_16v2/BKMapPLUTO.shp\",    \n",
    "    \"data/nyc/shapefiles/bx_mappluto_16v2/BXMapPLUTO.shp\",    \n",
    "    \"data/nyc/shapefiles/mn_mappluto_16v2/MNMapPLUTO.shp\",    \n",
    "    \"data/nyc/shapefiles/qn_mappluto_16v2/QNMapPLUTO.shp\",    \n",
    "    \"data/nyc/shapefiles/si_mappluto_16v2/SIMapPLUTO.shp\"\n",
    "]"
   ]
  },
  {
   "cell_type": "code",
   "execution_count": 5,
   "metadata": {},
   "outputs": [
    {
     "name": "stdout",
     "output_type": "stream",
     "text": [
      "data/nyc/shapefiles/bk_mappluto_16v2/BKMapPLUTO.shp\n",
      "data/nyc/shapefiles/bx_mappluto_16v2/BXMapPLUTO.shp\n",
      "data/nyc/shapefiles/mn_mappluto_16v2/MNMapPLUTO.shp\n",
      "data/nyc/shapefiles/qn_mappluto_16v2/QNMapPLUTO.shp\n",
      "data/nyc/shapefiles/si_mappluto_16v2/SIMapPLUTO.shp\n"
     ]
    }
   ],
   "source": [
    "bblCentroids = {}\n",
    "for fn in fns:\n",
    "    print fn\n",
    "    f = fiona.open(fn,\"r\")\n",
    "    for poly in f:\n",
    "        geo = shape(poly[\"geometry\"])\n",
    "        props = poly[\"properties\"]\n",
    "\n",
    "        bbl = getBBL(props[\"Borough\"], props[\"Block\"], props[\"Lot\"])\n",
    "        pt = projectionFunction(geo.centroid.x, geo.centroid.y)\n",
    "        bblCentroids[bbl] = pt\n",
    "    f.close()"
   ]
  },
  {
   "cell_type": "code",
   "execution_count": 6,
   "metadata": {
    "collapsed": true
   },
   "outputs": [],
   "source": [
    "f = open(\"output/nyc/centroidList.csv\",\"w\")\n",
    "for k,v in bblCentroids.items():\n",
    "    f.write(\"%s,%f,%f\\n\" % (k, v[0], v[1]))\n",
    "f.close()"
   ]
  },
  {
   "cell_type": "code",
   "execution_count": 7,
   "metadata": {},
   "outputs": [
    {
     "name": "stdout",
     "output_type": "stream",
     "text": [
      "857237\n"
     ]
    }
   ],
   "source": [
    "print len(bblCentroids)"
   ]
  }
 ],
 "metadata": {
  "kernelspec": {
   "display_name": "Python 2",
   "language": "python",
   "name": "python2"
  },
  "language_info": {
   "codemirror_mode": {
    "name": "ipython",
    "version": 2
   },
   "file_extension": ".py",
   "mimetype": "text/x-python",
   "name": "python",
   "nbconvert_exporter": "python",
   "pygments_lexer": "ipython2",
   "version": "2.7.12"
  }
 },
 "nbformat": 4,
 "nbformat_minor": 1
}
