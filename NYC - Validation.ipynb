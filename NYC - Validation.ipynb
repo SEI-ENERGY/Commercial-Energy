{
 "cells": [
  {
   "cell_type": "markdown",
   "metadata": {},
   "source": [
    "# NYC - Validation\n",
    "\n",
    "In this notebook we run our models that have been trained on CBECS on the PLUTO/LL84 validation dataset.\n",
    "\n",
    "This reproduces the result shown in the first row of Table 7.\n",
    "\n",
    "These results do not require cross validation as we use models trained on _all_ of CBECS tested on _all_ of the validation dataset."
   ]
  },
  {
   "cell_type": "code",
   "execution_count": 1,
   "metadata": {
    "collapsed": true
   },
   "outputs": [],
   "source": [
    "%matplotlib inline\n",
    "import sys\n",
    "import os\n",
    "import time\n",
    "\n",
    "import cPickle as pickle\n",
    "\n",
    "import pandas as pd\n",
    "import numpy as np\n",
    "\n",
    "import CBECSLib\n",
    "\n",
    "import matplotlib\n",
    "import matplotlib.pyplot as plt\n",
    "plt.style.use('seaborn-paper')\n",
    "\n",
    "#sklearn Utility Functions\n",
    "from sklearn.metrics import mean_absolute_error, median_absolute_error, r2_score"
   ]
  },
  {
   "cell_type": "code",
   "execution_count": 2,
   "metadata": {
    "collapsed": true
   },
   "outputs": [],
   "source": [
    "metrics = CBECSLib.metrics\n",
    "metricNames = CBECSLib.metricNames\n",
    "numMetrics = CBECSLib.numMetrics"
   ]
  },
  {
   "cell_type": "markdown",
   "metadata": {},
   "source": [
    "# Train/Test Models with NYC Data"
   ]
  },
  {
   "cell_type": "code",
   "execution_count": 3,
   "metadata": {
    "collapsed": true
   },
   "outputs": [],
   "source": [
    "def load_NYC():\n",
    "    X_val = np.load(\"output/nyc/ll84_X_2016.npy\")\n",
    "    Y_val = np.load(\"output/nyc/ll84_Y_2016.npy\")\n",
    "    valClassVals = np.load(\"output/nyc/ll84_classVals_2016.npy\")\n",
    "    return X_val, Y_val, valClassVals"
   ]
  },
  {
   "cell_type": "markdown",
   "metadata": {},
   "source": [
    "# Load models from file"
   ]
  },
  {
   "cell_type": "code",
   "execution_count": 4,
   "metadata": {},
   "outputs": [
    {
     "name": "stdout",
     "output_type": "stream",
     "text": [
      "KNN Regressor_trained.p\n",
      "Linear Regression_trained.p\n",
      "XGBoost_trained.p\n",
      "Bagging_trained.p\n",
      "Linear SVR_trained.p\n",
      "Extra Trees Regressor_trained.p\n",
      "Random Forest Regressor_trained.p\n",
      "ElasticNet_trained.p\n",
      "AdaBoost_trained.p\n",
      "SVR_trained.p\n",
      "MLP Regressor_trained.p\n",
      "Lasso_trained.p\n",
      "Ridge Regressor_trained.p\n"
     ]
    }
   ],
   "source": [
    "regressors = []\n",
    "regressorNames = []\n",
    "\n",
    "for fn in os.listdir(\"output/trainedModels/\"):\n",
    "    print fn\n",
    "\n",
    "    regressor = pickle.load(open(\"output/trainedModels/%s\" % (fn), \"rb\"))\n",
    "    regressorName = fn.split(\"_\")[0]\n",
    "    \n",
    "    regressors.append(regressor)\n",
    "    regressorNames.append(regressorName)\n",
    "\n",
    "numRegressors = len(regressors)"
   ]
  },
  {
   "cell_type": "code",
   "execution_count": 5,
   "metadata": {
    "collapsed": true
   },
   "outputs": [],
   "source": [
    "scaler = pickle.load(open(\"output/scaler.p\", \"rb\"))"
   ]
  },
  {
   "cell_type": "markdown",
   "metadata": {},
   "source": [
    "# Run validation"
   ]
  },
  {
   "cell_type": "code",
   "execution_count": 6,
   "metadata": {
    "collapsed": true
   },
   "outputs": [],
   "source": [
    "X_val, Y_val, valClassVals = load_NYC()\n",
    "X_val_scaled = scaler.transform(X_val)"
   ]
  },
  {
   "cell_type": "code",
   "execution_count": 7,
   "metadata": {
    "scrolled": false
   },
   "outputs": [
    {
     "name": "stdout",
     "output_type": "stream",
     "text": [
      "KNN Regressor\n",
      "\tMean Absolute Error - 0.3270\n",
      "\t10^Mean AE - 2.1232\n",
      "\tMedian Absolute Error - 0.2065\n",
      "\t10^Median AE - 1.6087\n",
      "\t$r^2$ - 0.3308\n",
      "Linear Regression\n",
      "\tMean Absolute Error - 0.6596\n",
      "\t10^Mean AE - 4.5669\n",
      "\tMedian Absolute Error - 0.5538\n",
      "\t10^Median AE - 3.5794\n",
      "\t$r^2$ - -0.8592\n",
      "XGBoost\n",
      "\tMean Absolute Error - 0.2497\n",
      "\t10^Mean AE - 1.7772\n",
      "\tMedian Absolute Error - 0.1505\n",
      "\t10^Median AE - 1.4140\n",
      "\t$r^2$ - 0.5147\n",
      "Bagging\n",
      "\tMean Absolute Error - 0.2701\n",
      "\t10^Mean AE - 1.8627\n",
      "\tMedian Absolute Error - 0.1703\n",
      "\t10^Median AE - 1.4801\n",
      "\t$r^2$ - 0.4635\n",
      "Linear SVR\n",
      "\tMean Absolute Error - 0.6613\n",
      "\t10^Mean AE - 4.5848\n",
      "\tMedian Absolute Error - 0.5252\n",
      "\t10^Median AE - 3.3514\n",
      "\t$r^2$ - -1.1295\n",
      "Extra Trees Regressor\n",
      "\tMean Absolute Error - 0.2753\n",
      "\t10^Mean AE - 1.8847\n",
      "\tMedian Absolute Error - 0.1713\n",
      "\t10^Median AE - 1.4835\n",
      "\t$r^2$ - 0.4588\n",
      "Random Forest Regressor\n",
      "\tMean Absolute Error - 0.2664\n",
      "\t10^Mean AE - 1.8467\n",
      "\tMedian Absolute Error - 0.1681\n",
      "\t10^Median AE - 1.4727\n",
      "\t$r^2$ - 0.4713\n",
      "ElasticNet\n",
      "\tMean Absolute Error - 0.9842\n",
      "\t10^Mean AE - 9.6429\n",
      "\tMedian Absolute Error - 0.9346\n",
      "\t10^Median AE - 8.6017\n",
      "\t$r^2$ - -2.0461\n",
      "AdaBoost\n",
      "\tMean Absolute Error - 0.3364\n",
      "\t10^Mean AE - 2.1697\n",
      "\tMedian Absolute Error - 0.2554\n",
      "\t10^Median AE - 1.8007\n",
      "\t$r^2$ - 0.3685\n",
      "SVR\n",
      "\tMean Absolute Error - 0.3583\n",
      "\t10^Mean AE - 2.2818\n",
      "\tMedian Absolute Error - 0.2079\n",
      "\t10^Median AE - 1.6140\n",
      "\t$r^2$ - 0.1881\n",
      "MLP Regressor\n",
      "\tMean Absolute Error - 0.3037\n",
      "\t10^Mean AE - 2.0124\n",
      "\tMedian Absolute Error - 0.1777\n",
      "\t10^Median AE - 1.5056\n",
      "\t$r^2$ - 0.3162\n",
      "Lasso\n",
      "\tMean Absolute Error - 1.0322\n",
      "\t10^Mean AE - 10.7697\n",
      "\tMedian Absolute Error - 0.9446\n",
      "\t10^Median AE - 8.8018\n",
      "\t$r^2$ - -2.4573\n",
      "Ridge Regressor\n",
      "\tMean Absolute Error - 0.6590\n",
      "\t10^Mean AE - 4.5601\n",
      "\tMedian Absolute Error - 0.5531\n",
      "\t10^Median AE - 3.5736\n",
      "\t$r^2$ - -0.8569\n"
     ]
    }
   ],
   "source": [
    "for i in range(numRegressors):\n",
    "    regressor = regressors[i]\n",
    "    regressorName = regressorNames[i]\n",
    "    \n",
    "    Y_pred = regressor.predict(X_val_scaled)\n",
    "    Y_pred[Y_pred<0] = 0\n",
    "    \n",
    "    scores = []\n",
    "    for j in range(numMetrics):\n",
    "        score = metrics[j](Y_val, Y_pred)\n",
    "        scores.append(score)\n",
    "        \n",
    "    print regressorName\n",
    "    for j in range(numMetrics):\n",
    "        print \"\\t%s - %0.4f\" % (metricNames[j], scores[j])"
   ]
  }
 ],
 "metadata": {
  "kernelspec": {
   "display_name": "Python 2",
   "language": "python",
   "name": "python2"
  },
  "language_info": {
   "codemirror_mode": {
    "name": "ipython",
    "version": 2
   },
   "file_extension": ".py",
   "mimetype": "text/x-python",
   "name": "python",
   "nbconvert_exporter": "python",
   "pygments_lexer": "ipython2",
   "version": "2.7.12"
  }
 },
 "nbformat": 4,
 "nbformat_minor": 1
}
