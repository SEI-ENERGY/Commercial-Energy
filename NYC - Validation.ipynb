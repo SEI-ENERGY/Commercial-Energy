{
 "cells": [
  {
   "cell_type": "markdown",
   "metadata": {},
   "source": [
    "# NYC - Validation\n",
    "\n",
    "In this notebook we run our models that have been trained on CBECS on the PLUTO/LL84 validation dataset.\n",
    "\n",
    "These results do not require cross validation as we use models trained on _all_ of CBECS tested on _all_ of the validation dataset."
   ]
  },
  {
   "cell_type": "code",
   "execution_count": 1,
   "metadata": {
    "collapsed": true
   },
   "outputs": [],
   "source": [
    "%matplotlib inline\n",
    "import sys\n",
    "import os\n",
    "import time\n",
    "\n",
    "import cPickle as pickle\n",
    "\n",
    "import pandas as pd\n",
    "import numpy as np\n",
    "\n",
    "import matplotlib\n",
    "import matplotlib.pyplot as plt\n",
    "plt.style.use('seaborn-paper')\n",
    "\n",
    "#sklearn Utility Functions\n",
    "from sklearn.metrics import mean_absolute_error, median_absolute_error, r2_score"
   ]
  },
  {
   "cell_type": "code",
   "execution_count": 2,
   "metadata": {
    "collapsed": true
   },
   "outputs": [],
   "source": [
    "metrics = [\n",
    "    mean_absolute_error,\n",
    "    median_absolute_error,\n",
    "    r2_score\n",
    "]\n",
    "metricNames = [\n",
    "    \"Mean Absolute Error\",\n",
    "    \"Median Absolute Error\",\n",
    "    \"R2\"\n",
    "]\n",
    "assert len(metrics) == len(metricNames)\n",
    "numMetrics = len(metrics)"
   ]
  },
  {
   "cell_type": "markdown",
   "metadata": {},
   "source": [
    "# Train/Test Models with NYC Data"
   ]
  },
  {
   "cell_type": "code",
   "execution_count": 3,
   "metadata": {
    "collapsed": true
   },
   "outputs": [],
   "source": [
    "def load_NYC():\n",
    "    X_val = np.load(\"output/nyc/ll84_X_2016.npy\")\n",
    "    Y_val = np.load(\"output/nyc/ll84_Y_2016.npy\")\n",
    "    valClassVals = np.load(\"output/nyc/ll84_classVals_2016.npy\")\n",
    "    return X_val, Y_val, valClassVals"
   ]
  },
  {
   "cell_type": "markdown",
   "metadata": {},
   "source": [
    "# Load models from file"
   ]
  },
  {
   "cell_type": "code",
   "execution_count": 4,
   "metadata": {},
   "outputs": [
    {
     "name": "stdout",
     "output_type": "stream",
     "text": [
      "KNN Regressor_trained.p\n",
      "Linear Regression_trained.p\n",
      "XGBoost_trained.p\n",
      "Bagging_trained.p\n",
      "Linear SVR_trained.p\n",
      "Extra Trees Regressor_trained.p\n",
      "Random Forest Regressor_trained.p\n",
      "ElasticNet_trained.p\n",
      "AdaBoost_trained.p\n",
      "SVR_trained.p\n",
      "MLP Regressor_trained.p\n",
      "Lasso_trained.p\n",
      "Ridge Regressor_trained.p\n"
     ]
    }
   ],
   "source": [
    "regressors = []\n",
    "regressorNames = []\n",
    "\n",
    "for fn in os.listdir(\"output/trainedModels/\"):\n",
    "    print fn\n",
    "\n",
    "    regressor = pickle.load(open(\"output/trainedModels/%s\" % (fn), \"rb\"))\n",
    "    regressorName = fn.split(\"_\")[0]\n",
    "    \n",
    "    regressors.append(regressor)\n",
    "    regressorNames.append(regressorName)\n",
    "\n",
    "numRegressors = len(regressors)"
   ]
  },
  {
   "cell_type": "code",
   "execution_count": 5,
   "metadata": {
    "collapsed": true
   },
   "outputs": [],
   "source": [
    "scaler = pickle.load(open(\"output/scaler.p\", \"rb\"))"
   ]
  },
  {
   "cell_type": "markdown",
   "metadata": {},
   "source": [
    "# Run validation"
   ]
  },
  {
   "cell_type": "code",
   "execution_count": 6,
   "metadata": {
    "collapsed": true
   },
   "outputs": [],
   "source": [
    "X_val, Y_val, valClassVals = load_NYC()\n",
    "X_val_scaled = scaler.transform(X_val)"
   ]
  },
  {
   "cell_type": "code",
   "execution_count": 7,
   "metadata": {
    "scrolled": false
   },
   "outputs": [
    {
     "name": "stdout",
     "output_type": "stream",
     "text": [
      "KNN Regressor\n",
      "\tMean Absolute Error - 0.3287\n",
      "\tMedian Absolute Error - 0.2063\n",
      "\tR2 - 0.3236\n",
      "Linear Regression\n",
      "\tMean Absolute Error - 0.6613\n",
      "\tMedian Absolute Error - 0.5563\n",
      "\tR2 - -0.8642\n",
      "XGBoost\n",
      "\tMean Absolute Error - 0.2498\n",
      "\tMedian Absolute Error - 0.1507\n",
      "\tR2 - 0.5146\n",
      "Bagging\n",
      "\tMean Absolute Error - 0.2678\n",
      "\tMedian Absolute Error - 0.1696\n",
      "\tR2 - 0.4743\n",
      "Linear SVR\n",
      "\tMean Absolute Error - 0.6600\n",
      "\tMedian Absolute Error - 0.5256\n",
      "\tR2 - -1.1203\n",
      "Extra Trees Regressor\n",
      "\tMean Absolute Error - 0.2756\n",
      "\tMedian Absolute Error - 0.1724\n",
      "\tR2 - 0.4604\n",
      "Random Forest Regressor\n",
      "\tMean Absolute Error - 0.2658\n",
      "\tMedian Absolute Error - 0.1665\n",
      "\tR2 - 0.4733\n",
      "ElasticNet\n",
      "\tMean Absolute Error - 0.9842\n",
      "\tMedian Absolute Error - 0.9346\n",
      "\tR2 - -2.0461\n",
      "AdaBoost\n",
      "\tMean Absolute Error - 0.3720\n",
      "\tMedian Absolute Error - 0.2998\n",
      "\tR2 - 0.3070\n",
      "SVR\n",
      "\tMean Absolute Error - 0.3585\n",
      "\tMedian Absolute Error - 0.2072\n",
      "\tR2 - 0.1868\n",
      "MLP Regressor\n",
      "\tMean Absolute Error - 0.2947\n",
      "\tMedian Absolute Error - 0.1635\n",
      "\tR2 - 0.3336\n",
      "Lasso\n",
      "\tMean Absolute Error - 1.0322\n",
      "\tMedian Absolute Error - 0.9446\n",
      "\tR2 - -2.4573\n",
      "Ridge Regressor\n",
      "\tMean Absolute Error - 0.6606\n",
      "\tMedian Absolute Error - 0.5555\n",
      "\tR2 - -0.8619\n"
     ]
    }
   ],
   "source": [
    "for i in range(numRegressors):\n",
    "    regressor = regressors[i]\n",
    "    regressorName = regressorNames[i]\n",
    "    \n",
    "    Y_pred = regressor.predict(X_val_scaled)\n",
    "    Y_pred[Y_pred<0] = 0\n",
    "    \n",
    "    scores = []\n",
    "    for j in range(numMetrics):\n",
    "        score = metrics[j](Y_val, Y_pred)\n",
    "        scores.append(score)\n",
    "        \n",
    "    print regressorName\n",
    "    for j in range(numMetrics):\n",
    "        print \"\\t%s - %0.4f\" % (metricNames[j], scores[j])"
   ]
  },
  {
   "cell_type": "code",
   "execution_count": null,
   "metadata": {
    "collapsed": true
   },
   "outputs": [],
   "source": []
  }
 ],
 "metadata": {
  "kernelspec": {
   "display_name": "Python 2",
   "language": "python",
   "name": "python2"
  },
  "language_info": {
   "codemirror_mode": {
    "name": "ipython",
    "version": 2
   },
   "file_extension": ".py",
   "mimetype": "text/x-python",
   "name": "python",
   "nbconvert_exporter": "python",
   "pygments_lexer": "ipython2",
   "version": "2.7.12"
  }
 },
 "nbformat": 4,
 "nbformat_minor": 1
}
