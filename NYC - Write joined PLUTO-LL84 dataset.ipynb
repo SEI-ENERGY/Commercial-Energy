{
 "cells": [
  {
   "cell_type": "markdown",
   "metadata": {},
   "source": [
    "# NYC write joined PLUTO-LL84 dataset\n",
    "\n",
    "In this notebook we join the PLUTO dataset to the LL84 dataset by BBL, then create the validation dataset that we use in the paper by augmenting the joined dataset with HDD and CDD data.\n",
    "\n",
    "Because we cannot distribute the HDD and CDD rasters that we have used in processing this data, we have created a file `data/hdd_cdd_2015.csv` that contains the HDD and CDD values of each building in the joined dataset (by latitude and longitude)."
   ]
  },
  {
   "cell_type": "code",
   "execution_count": 1,
   "metadata": {
    "collapsed": true
   },
   "outputs": [],
   "source": [
    "import sys\n",
    "import os\n",
    "import time\n",
    "\n",
    "import pandas as pd\n",
    "import numpy as np\n",
    "\n",
    "import CBECSLib"
   ]
  },
  {
   "cell_type": "code",
   "execution_count": 2,
   "metadata": {
    "collapsed": true
   },
   "outputs": [],
   "source": [
    "USE_CACHED_DATA = True\n",
    "\n",
    "if USE_CACHED_DATA:\n",
    "    ds = {}\n",
    "    \n",
    "    f = open(\"data/hdd_cdd_2015.csv\",\"r\")\n",
    "    f.readline()\n",
    "    for line in f:\n",
    "        line = line.strip()\n",
    "        if line!=\"\":\n",
    "            lat,lon,cdd,hdd = map(float, line.split(\",\"))\n",
    "            ds[(lat,lon)] = (cdd,hdd)\n",
    "    f.close()\n",
    "    \n",
    "    def getDegreeDays(lat, lon):\n",
    "        return ds[(lat,lon)]\n",
    "else:\n",
    "    from netCDF4 import Dataset\n",
    "    \n",
    "    ds = Dataset(os.path.expanduser(\"~/Dropbox/data/Degree Days/degree_day_rasters/rcp8.5_noaa/cddnoaa_2015.nc\"),\"r\")\n",
    "    cdds = ds.variables[\"cooldegday\"][:]\n",
    "    lats = ds.variables[\"lat\"][:]\n",
    "    lons = ds.variables[\"lon\"][:]\n",
    "    ds.close()\n",
    "\n",
    "    ds = Dataset(os.path.expanduser(\"~/Dropbox/data/Degree Days/degree_day_rasters/rcp8.5_noaa/hddnoaa_2015.nc\"),\"r\")\n",
    "    hdds = ds.variables[\"heatdegday\"][:]\n",
    "    ds.close()\n",
    "\n",
    "    def getIndices(lat, lon):\n",
    "        latIndex = np.searchsorted(lats,lat)\n",
    "        lonIndex = np.searchsorted(lons,lon)\n",
    "\n",
    "        return latIndex,lonIndex\n",
    "\n",
    "    def getDegreeDays(lat, lon):\n",
    "        ''' Call as: getDegreeDays(33.7490,-84.3880)\n",
    "        '''\n",
    "        cdd = cdds[getIndices(lat,lon)]\n",
    "        hdd = hdds[getIndices(lat,lon)]\n",
    "\n",
    "        return cdd, hdd"
   ]
  },
  {
   "cell_type": "code",
   "execution_count": 3,
   "metadata": {
    "collapsed": true
   },
   "outputs": [],
   "source": [
    "f = open(\"data/nyc/NYC_PropertyType_PBA_mapping.csv\",\"r\")\n",
    "lines = f.read().strip().split(\"\\n\")\n",
    "f.close()\n",
    "propertyTypeMapping = {}\n",
    "for line in lines:\n",
    "    k,v = line.split(\"|\")\n",
    "    propertyTypeMapping[k] = int(v)"
   ]
  },
  {
   "cell_type": "code",
   "execution_count": 4,
   "metadata": {
    "collapsed": true
   },
   "outputs": [],
   "source": [
    "f = open(\"output/nyc/centroidList.csv\",\"r\")\n",
    "lines = f.read().strip().split(\"\\n\")\n",
    "f.close()\n",
    "centroidMapping = {}\n",
    "for line in lines:\n",
    "    bbl,lon,lat = line.split(\",\")\n",
    "    centroidMapping[float(bbl)] = (float(lat), float(lon))"
   ]
  },
  {
   "cell_type": "markdown",
   "metadata": {},
   "source": [
    "# Create PLUTO dataset\n",
    "\n",
    "Here we combine all of the indivdual PLUTO dataset files into a single CSV."
   ]
  },
  {
   "cell_type": "code",
   "execution_count": 5,
   "metadata": {
    "collapsed": true
   },
   "outputs": [],
   "source": [
    "BASE_DIR = \"data/nyc/BORO_zip_files_csv\""
   ]
  },
  {
   "cell_type": "code",
   "execution_count": 6,
   "metadata": {},
   "outputs": [
    {
     "name": "stderr",
     "output_type": "stream",
     "text": [
      "/usr/local/lib/python2.7/dist-packages/IPython/core/interactiveshell.py:2717: DtypeWarning: Columns (19,22,23,25,63,79) have mixed types. Specify dtype option on import or set low_memory=False.\n",
      "  interactivity=interactivity, compiler=compiler, result=result)\n",
      "/usr/local/lib/python2.7/dist-packages/IPython/core/interactiveshell.py:2717: DtypeWarning: Columns (18,19,21,22,23,63,64,79) have mixed types. Specify dtype option on import or set low_memory=False.\n",
      "  interactivity=interactivity, compiler=compiler, result=result)\n",
      "/usr/local/lib/python2.7/dist-packages/IPython/core/interactiveshell.py:2717: DtypeWarning: Columns (18,19,21,22,63,64,79) have mixed types. Specify dtype option on import or set low_memory=False.\n",
      "  interactivity=interactivity, compiler=compiler, result=result)\n",
      "/usr/local/lib/python2.7/dist-packages/IPython/core/interactiveshell.py:2717: DtypeWarning: Columns (18,19,21,22,63,64,76) have mixed types. Specify dtype option on import or set low_memory=False.\n",
      "  interactivity=interactivity, compiler=compiler, result=result)\n",
      "/usr/local/lib/python2.7/dist-packages/IPython/core/interactiveshell.py:2717: DtypeWarning: Columns (18,19,21,22,23,24,25,63,64,79) have mixed types. Specify dtype option on import or set low_memory=False.\n",
      "  interactivity=interactivity, compiler=compiler, result=result)\n"
     ]
    }
   ],
   "source": [
    "csvFrames = []\n",
    "for fn in os.listdir(BASE_DIR):\n",
    "    if fn.endswith(\".csv\"):\n",
    "        df = pd.read_csv(os.path.join(BASE_DIR, fn), header=0)\n",
    "        csvFrames.append(df)"
   ]
  },
  {
   "cell_type": "code",
   "execution_count": 7,
   "metadata": {
    "collapsed": true
   },
   "outputs": [],
   "source": [
    "df = pd.concat(csvFrames)\n",
    "df = df.reset_index(drop=True)"
   ]
  },
  {
   "cell_type": "code",
   "execution_count": 8,
   "metadata": {
    "collapsed": true
   },
   "outputs": [],
   "source": [
    "df.to_csv(\"output/nyc/allBuildings.csv\",sep=\"|\",encoding='utf-8')"
   ]
  },
  {
   "cell_type": "markdown",
   "metadata": {},
   "source": [
    "# Load PLUTO dataset"
   ]
  },
  {
   "cell_type": "code",
   "execution_count": 9,
   "metadata": {},
   "outputs": [
    {
     "name": "stderr",
     "output_type": "stream",
     "text": [
      "/usr/local/lib/python2.7/dist-packages/IPython/core/interactiveshell.py:2717: DtypeWarning: Columns (19,20,22,23,24,25,26,64,65,80) have mixed types. Specify dtype option on import or set low_memory=False.\n",
      "  interactivity=interactivity, compiler=compiler, result=result)\n"
     ]
    },
    {
     "name": "stdout",
     "output_type": "stream",
     "text": [
      "(858370, 85)\n",
      "(858370, 85)\n",
      "858370\n"
     ]
    }
   ],
   "source": [
    "plutoData = pd.read_csv(\"output/nyc/allBuildings.csv\", header=0, sep=\"|\", encoding='utf-8')\n",
    "\n",
    "columnsToKeep = [\n",
    "    \"NumFloors\",\n",
    "    \"BBL\"\n",
    "]\n",
    "print plutoData.shape\n",
    "plutoData.dropna(subset=columnsToKeep, inplace=True)\n",
    "print plutoData.shape\n",
    "\n",
    "plutoNumFloorMapping = {}\n",
    "for row in plutoData.iterrows():\n",
    "    row = row[1]\n",
    "    \n",
    "    bbl = row[\"BBL\"]\n",
    "    numFloors  = row[\"NumFloors\"]\n",
    "    \n",
    "    plutoNumFloorMapping[bbl] = numFloors\n",
    "print len(plutoNumFloorMapping)"
   ]
  },
  {
   "cell_type": "code",
   "execution_count": 10,
   "metadata": {},
   "outputs": [
    {
     "name": "stdout",
     "output_type": "stream",
     "text": [
      "(13223, 57)\n",
      "(11438, 57)\n"
     ]
    }
   ],
   "source": [
    "ll84Data = pd.read_csv(\"data/nyc/nyc_benchmarking_disclosure_data_reported_in_2016.csv\", header=0, delimiter=\"|\")\n",
    "\n",
    "columnsToKeep = [\n",
    "    \"NYC Borough, Block and Lot (BBL)\",\n",
    "    \"Primary Property Type - Self Selected\",\n",
    "    \"Source EUI (kBtu/ft²)\",\n",
    "    \"Site EUI (kBtu/ft²)\",\n",
    "    \"Property GFA - Self-reported (ft²)\",\n",
    "]\n",
    "print ll84Data.shape\n",
    "ll84Data.dropna(subset=columnsToKeep, inplace=True)\n",
    "print ll84Data.shape"
   ]
  },
  {
   "cell_type": "code",
   "execution_count": 11,
   "metadata": {},
   "outputs": [
    {
     "name": "stdout",
     "output_type": "stream",
     "text": [
      "Classes in this dataset:  17\n",
      "20 classes\n",
      "(2612, 24)\n"
     ]
    }
   ],
   "source": [
    "tempLatLons = {}\n",
    "\n",
    "valData = []\n",
    "valTargets = []\n",
    "valClassVals = []\n",
    "valBBLs = []\n",
    "for row in ll84Data.iterrows():\n",
    "    \n",
    "    row = row[1]\n",
    "    \n",
    "    bbl = row[\"NYC Borough, Block and Lot (BBL)\"]\n",
    "    primaryPropertyType = row[\"Primary Property Type - Self Selected\"]\n",
    "    sourceEUI = float(row[\"Source EUI (kBtu/ft²)\"])\n",
    "    siteEUI = float(row[\"Site EUI (kBtu/ft²)\"])\n",
    "    sqft = float(row[\"Property GFA - Self-reported (ft²)\"])\n",
    "    \n",
    "    if (bbl in centroidMapping) and (bbl in plutoNumFloorMapping):    \n",
    "        lat, lon = centroidMapping[bbl]\n",
    "        numFloors = plutoNumFloorMapping[bbl]\n",
    "        \n",
    "        cdd, hdd = getDegreeDays(lat,lon)\n",
    "        \n",
    "        tempLatLons[(lat,lon)] = (cdd, hdd)\n",
    "        \n",
    "        if propertyTypeMapping[primaryPropertyType] != -1 and siteEUI>0 and sqft>0:\n",
    "            valData.append((sqft, cdd, hdd, numFloors))\n",
    "            valTargets.append((siteEUI*sqft))\n",
    "            valClassVals.append(propertyTypeMapping[primaryPropertyType])\n",
    "            valBBLs.append(bbl)\n",
    "\n",
    "            \n",
    "valData = np.array(valData)\n",
    "valTargets = np.array(valTargets)\n",
    "valClassVals = np.array(valClassVals)\n",
    "valBBLs = np.array(valBBLs)\n",
    "\n",
    "print \"Classes in this dataset: \", len(set(valClassVals))\n",
    "\n",
    "oneHotClasses, uniqueVals = CBECSLib.doOneHot(valClassVals, uniqueVals=sorted(CBECSLib.pbaLabels.keys()), returnNames=True)\n",
    "X_val = np.hstack([valData,oneHotClasses])\n",
    "Y_val = np.log10(valTargets)\n",
    "print X_val.shape"
   ]
  },
  {
   "cell_type": "code",
   "execution_count": 12,
   "metadata": {
    "collapsed": true
   },
   "outputs": [],
   "source": [
    "np.save(\"output/nyc/ll84_X_2016.npy\", X_val)\n",
    "np.save(\"output/nyc/ll84_Y_2016.npy\", Y_val)\n",
    "np.save(\"output/nyc/ll84_classVals_2016.npy\", valClassVals)\n",
    "np.save(\"output/nyc/ll84_bbls_2016.npy\", valBBLs)"
   ]
  }
 ],
 "metadata": {
  "kernelspec": {
   "display_name": "Python 2",
   "language": "python",
   "name": "python2"
  },
  "language_info": {
   "codemirror_mode": {
    "name": "ipython",
    "version": 2
   },
   "file_extension": ".py",
   "mimetype": "text/x-python",
   "name": "python",
   "nbconvert_exporter": "python",
   "pygments_lexer": "ipython2",
   "version": "2.7.12"
  }
 },
 "nbformat": 4,
 "nbformat_minor": 1
}
