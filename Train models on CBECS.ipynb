{
 "cells": [
  {
   "cell_type": "markdown",
   "metadata": {},
   "source": [
    "# Train models on CBECS\n",
    "\n",
    "In this notebook we train a model using each model with the \"common feature\" dataset, then save the trained model to disk to be applied elsewhere."
   ]
  },
  {
   "cell_type": "code",
   "execution_count": 1,
   "metadata": {
    "collapsed": true
   },
   "outputs": [],
   "source": [
    "%matplotlib inline\n",
    "import sys\n",
    "import os\n",
    "import time\n",
    "\n",
    "import pandas as pd\n",
    "import numpy as np\n",
    "\n",
    "import cPickle as pickle\n",
    "\n",
    "import CBECSLib\n",
    "\n",
    "#sklearn base\n",
    "import sklearn.base\n",
    "\n",
    "#sklearn utility\n",
    "from sklearn.model_selection import train_test_split, StratifiedKFold\n",
    "from sklearn.preprocessing import StandardScaler"
   ]
  },
  {
   "cell_type": "code",
   "execution_count": 2,
   "metadata": {
    "collapsed": true
   },
   "outputs": [],
   "source": [
    "OUTPUT_DIR = \"output/trainedModels/\""
   ]
  },
  {
   "cell_type": "code",
   "execution_count": 3,
   "metadata": {
    "collapsed": true
   },
   "outputs": [],
   "source": [
    "pbaLabels = CBECSLib.pbaLabels\n",
    "pbaPlusLabels = CBECSLib.pbaPlusLabels\n",
    "\n",
    "getDataset = CBECSLib.getDataset\n",
    "getClassFrequencies = CBECSLib.getClassFrequencies\n",
    "getDataSubset = CBECSLib.getDataSubset"
   ]
  },
  {
   "cell_type": "code",
   "execution_count": 4,
   "metadata": {
    "collapsed": true
   },
   "outputs": [],
   "source": [
    "regressors = CBECSLib.regressors\n",
    "regressorNames = CBECSLib.regressorNames\n",
    "numRegressors = CBECSLib.numRegressors\n",
    "\n",
    "metrics = CBECSLib.metrics\n",
    "metricNames = CBECSLib.metricNames\n",
    "numMetrics = CBECSLib.numMetrics"
   ]
  },
  {
   "cell_type": "markdown",
   "metadata": {},
   "source": [
    "## Create regression models and save to disk"
   ]
  },
  {
   "cell_type": "code",
   "execution_count": 5,
   "metadata": {},
   "outputs": [
    {
     "name": "stdout",
     "output_type": "stream",
     "text": [
      "20 classes\n",
      "['SQFT' 'CDD65' 'HDD65' 'NFLOOR' 'PBA 1' 'PBA 2' 'PBA 4' 'PBA 5' 'PBA 6'\n",
      " 'PBA 7' 'PBA 8' 'PBA 11' 'PBA 12' 'PBA 13' 'PBA 14' 'PBA 15' 'PBA 16'\n",
      " 'PBA 17' 'PBA 18' 'PBA 23' 'PBA 24' 'PBA 25' 'PBA 26' 'PBA 91']\n",
      "Linear Regression\n",
      "[0.51971655364473335, 3.309150761689839, 0.43036557994203406, 2.6938014350676145, 0.53846385539177355]\n",
      "Ridge Regressor\n",
      "[0.51963978624712637, 3.3085658764285073, 0.42993141750412622, 2.6911097982961314, 0.53846473730738165]\n",
      "SVR\n",
      "[0.37184666793365806, 2.3542179566520107, 0.27371489175351105, 1.8780834765063645, 0.72203247138834037]\n",
      "Lasso\n",
      "[0.78991319184111575, 6.1647176721297914, 0.68863716581377776, 4.8824428199896053, 0.0]\n",
      "ElasticNet\n",
      "[0.75934058596935938, 5.7456687710419789, 0.67488148136559722, 4.7302215395924767, 0.09159617864103442]\n",
      "Linear SVR\n",
      "[0.51112992723713746, 3.2443666406839435, 0.39916825166096981, 2.5070803423514318, 0.52250078265606892]\n",
      "AdaBoost\n",
      "[0.44594937775692328, 2.7922183556498887, 0.37531549844048584, 2.3730970444549571, 0.67109849923772891]\n",
      "Bagging\n",
      "[0.12962147300227964, 1.3477876514280573, 0.083693446848191577, 1.2125326642981007, 0.95951329203704117]\n",
      "XGBoost\n",
      "[0.28082793107345944, 1.9090967181981242, 0.20933714692904726, 1.6193366562360405, 0.84102974263036745]\n",
      "Random Forest Regressor\n",
      "[0.1283089472645593, 1.3437205135778267, 0.084423976807868506, 1.2145739908434761, 0.96071586601540848]\n",
      "Extra Trees Regressor\n",
      "[3.0995499960505233e-07, 1.0000007136980162, 8.8817841970012523e-16, 1.000000000000002, 0.99999999998626088]\n",
      "MLP Regressor\n",
      "[0.31592511555398028, 2.0697844296260177, 0.23364572485586788, 1.7125597192396482, 0.79897234604954215]\n",
      "KNN Regressor\n",
      "[0.3416189717663804, 2.1959324262238455, 0.25501686857694228, 1.7989407870314289, 0.77673716159084716]\n"
     ]
    }
   ],
   "source": [
    "X,Y,columnNames,classVals = getDataset(1,pbaOneHot=True)\n",
    "print columnNames\n",
    "classOrdering,classFrequencies = getClassFrequencies(classVals)\n",
    "numClassVals = len(classFrequencies)\n",
    "Y = np.log10(Y)\n",
    "\n",
    "scaler = StandardScaler()\n",
    "scaler.fit(X)\n",
    "X_scaled = scaler.transform(X)\n",
    "pickle.dump(scaler, open(\"output/scaler.p\", \"wb\"))\n",
    "\n",
    "for i in range(numRegressors):\n",
    "    regressor = sklearn.base.clone(regressors[i])\n",
    "    regressorName = regressorNames[i]\n",
    "\n",
    "    print regressorName\n",
    "    \n",
    "    #train model\n",
    "    regressor.fit(X_scaled,Y)\n",
    "\n",
    "    #predict model\n",
    "    predicted = regressor.predict(X_scaled)\n",
    "    predicted[predicted<0] = 0\n",
    "\n",
    "    #evaluate model\n",
    "    scores = []\n",
    "    for m,metric in enumerate(metrics):\n",
    "        metricName = metricNames[m]\n",
    "        score = metric(Y,predicted)\n",
    "        scores.append(score)\n",
    "    print scores\n",
    "        \n",
    "    pickle.dump(regressor, open(os.path.join(OUTPUT_DIR, \"%s_trained.p\" % (regressorName)), \"wb\"))"
   ]
  },
  {
   "cell_type": "code",
   "execution_count": null,
   "metadata": {
    "collapsed": true
   },
   "outputs": [],
   "source": []
  }
 ],
 "metadata": {
  "kernelspec": {
   "display_name": "Python 2",
   "language": "python",
   "name": "python2"
  },
  "language_info": {
   "codemirror_mode": {
    "name": "ipython",
    "version": 2
   },
   "file_extension": ".py",
   "mimetype": "text/x-python",
   "name": "python",
   "nbconvert_exporter": "python",
   "pygments_lexer": "ipython2",
   "version": "2.7.12"
  }
 },
 "nbformat": 4,
 "nbformat_minor": 1
}
